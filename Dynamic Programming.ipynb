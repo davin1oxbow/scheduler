{
 "cells": [
  {
   "cell_type": "markdown",
   "id": "d527bf06-f178-44c0-9aac-5cc266e37c7d",
   "metadata": {},
   "source": [
    "## General Pipeline:\n",
    "- Receive incoming shifts\n",
    "- Use shift scoring to determine whether we can take on that shift\n",
    "\n",
    "## Shift Scoring:\n",
    "\n",
    "### Inputs:\n",
    "For each shift **(up for debate)**\n",
    "- room\n",
    "- service needed\n",
    "- variability (depending on whether or not they talk a lot)\n",
    "\n",
    "For each service\n",
    "- Synchronous services: How long each services takes\n",
    "- Asynchronous services: Time frame each service needs to be completed in\n",
    "\n",
    "### Outputs:\n",
    "- Whether or not it works\n",
    "- Optimal placement of shifts"
   ]
  },
  {
   "cell_type": "markdown",
   "id": "36f47563-ad2f-418e-86be-a1bf432f0173",
   "metadata": {},
   "source": [
    "# Approach 1: \n",
    "\n",
    "Approach: \n",
    "- (DP Per Time Slot) x each time slot to fill a month\n",
    "- Balance out the number of shifts each person takes on\n",
    "\n",
    "Constraints:\n",
    "- n caregivers\n",
    "- 4 hour time slots, split into 15-minute increments (indexed as block-units, where each unit is 15 minutes)\n",
    "\n",
    "TODO:\n",
    "- Allow for variability\n",
    "- Allow for overriding average duration"
   ]
  },
  {
   "cell_type": "code",
   "execution_count": 39,
   "id": "22ba6952-e67a-44f1-9bbd-39a09e262db8",
   "metadata": {},
   "outputs": [],
   "source": [
    "def knapsackSingle(shift_length):\n",
    "    n = 16\n",
    "    m = len(shift_length)\n",
    "\n",
    "    # 1 - indexed\n",
    "    shift_length = [-1] + shift_length\n",
    "    dp = [[ 0 for i in range(m + 1)] for j in range(n + 1)] # n+1 x m+1 array\n",
    "    parent = [[ [-1, -1] for i in range(m + 1)] for j in range(n + 1)] # n+1 x m+1 array\n",
    "\n",
    "    # DP\n",
    "    for i in range(1, n + 1):\n",
    "        for j in range(1, m + 1):\n",
    "\n",
    "            # Skip Shift\n",
    "            dp[i][j] = dp[i][j-1]\n",
    "            parent[i][j] = [i, j-1]\n",
    "\n",
    "            # Use shift\n",
    "            if i - shift_length[j] >= 0 and dp[i][j] < dp[i- shift_length[j]][j - 1] + 1:\n",
    "                dp[i][j] = max(dp[i][j], dp[i- shift_length[j]][j - 1] + 1)\n",
    "                parent[i][j] = [i - shift_length[j], j-1]\n",
    "\n",
    "    # Backtracking\n",
    "    used_shifts = []\n",
    "    \n",
    "    cur = [n, m]\n",
    "    while cur[0] > 0 and cur[1] > 0:\n",
    "        next_par = parent[cur[0]][cur[1]]\n",
    "        # print(\"cur\", cur, \"par\", next_par)\n",
    "        if next_par[0] != cur[0]:\n",
    "            used_shifts.append(cur[1] - 1)\n",
    "\n",
    "        cur = next_par\n",
    "        \n",
    "    return dp[n][m], used_shifts\n",
    "    \n",
    "def optimalSchedule(num_wa, shift_lengths):\n",
    "    assert num_wa >= 1, f\"not enough caregivers assigned: {num_wa}\"\n",
    "    \n",
    "    schedule = []\n",
    "\n",
    "    while num_wa >= 0:\n",
    "        max_num, schedule_i = knapsackSingle(shift_lengths)\n",
    "        schedule.append([shift_lengths[i] for i in schedule_i])\n",
    "        num_wa -= 1\n",
    "\n",
    "        # Indices are sorted in decreasing order\n",
    "        for j in schedule_i:\n",
    "            del shift_lengths[j]\n",
    "\n",
    "    return len(shift_lengths), schedule"
   ]
  },
  {
   "cell_type": "code",
   "execution_count": null,
   "id": "dfd9d10f-da27-4496-8bce-c19196a5aa64",
   "metadata": {},
   "outputs": [],
   "source": [
    "best_schedule = []\n",
    "\n",
    "def scoreSchedule(schedule):\n",
    "    pass \n",
    "def optimizeSchedule(schedule):\n",
    "    # Moves\n",
    "    pass \n",
    "    # Swaps\n",
    "    pass "
   ]
  },
  {
   "cell_type": "code",
   "execution_count": null,
   "id": "146efb40-9522-40ea-98ee-ce5281bf6c2f",
   "metadata": {},
   "outputs": [],
   "source": [
    "\n",
    "rem_shifts, schedule = optimalSchedule(\n",
    "    num_wa = 2, \n",
    "    shift_lengths = [5, 8, 9, 5, 10, 5]\n",
    ") \n",
    "\n",
    "print(rem_shifts)\n",
    "print(schedule)"
   ]
  }
 ],
 "metadata": {
  "kernelspec": {
   "display_name": "Python [conda env:oxbow_datanalysis] *",
   "language": "python",
   "name": "conda-env-oxbow_datanalysis-py"
  },
  "language_info": {
   "codemirror_mode": {
    "name": "ipython",
    "version": 3
   },
   "file_extension": ".py",
   "mimetype": "text/x-python",
   "name": "python",
   "nbconvert_exporter": "python",
   "pygments_lexer": "ipython3",
   "version": "3.9.18"
  }
 },
 "nbformat": 4,
 "nbformat_minor": 5
}
